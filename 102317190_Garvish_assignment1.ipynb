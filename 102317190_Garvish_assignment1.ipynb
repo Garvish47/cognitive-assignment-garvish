{
  "nbformat": 4,
  "nbformat_minor": 0,
  "metadata": {
    "colab": {
      "provenance": [],
      "authorship_tag": "ABX9TyNTHTLBuVmV79NL4vK327Tx",
      "include_colab_link": true
    },
    "kernelspec": {
      "name": "python3",
      "display_name": "Python 3"
    },
    "language_info": {
      "name": "python"
    }
  },
  "cells": [
    {
      "cell_type": "markdown",
      "metadata": {
        "id": "view-in-github",
        "colab_type": "text"
      },
      "source": [
        "<a href=\"https://colab.research.google.com/github/Garvish47/cognitive-assignment-garvish/blob/main/102317190_Garvish_assignment1.ipynb\" target=\"_parent\"><img src=\"https://colab.research.google.com/assets/colab-badge.svg\" alt=\"Open In Colab\"/></a>"
      ]
    },
    {
      "cell_type": "code",
      "execution_count": null,
      "metadata": {
        "colab": {
          "base_uri": "https://localhost:8080/"
        },
        "id": "1-I-Iiv2sUb8",
        "outputId": "dc751182-0c52-4d9b-f3ff-84a7378ab811"
      },
      "outputs": [
        {
          "output_type": "stream",
          "name": "stdout",
          "text": [
            "something other than hello world...\n"
          ]
        }
      ],
      "source": [
        "print(\"something other than hello world...\")"
      ]
    },
    {
      "cell_type": "markdown",
      "source": [
        "Question 2"
      ],
      "metadata": {
        "id": "SlSzHN_4Ihui"
      }
    },
    {
      "cell_type": "code",
      "source": [
        "print(5+4)\n",
        "print('5'+'4')\n",
        "'Maroon ' + '5'"
      ],
      "metadata": {
        "colab": {
          "base_uri": "https://localhost:8080/",
          "height": 70
        },
        "id": "yWzYBveJ5SqH",
        "outputId": "b5c9c289-9df3-48d2-e90b-3833eae3abe3"
      },
      "execution_count": null,
      "outputs": [
        {
          "output_type": "stream",
          "name": "stdout",
          "text": [
            "9\n",
            "54\n"
          ]
        },
        {
          "output_type": "execute_result",
          "data": {
            "text/plain": [
              "'Maroon 5'"
            ],
            "application/vnd.google.colaboratory.intrinsic+json": {
              "type": "string"
            }
          },
          "metadata": {},
          "execution_count": 27
        }
      ]
    },
    {
      "cell_type": "markdown",
      "source": [
        "Question 3- If else statements"
      ],
      "metadata": {
        "id": "vWvlwm39I5oB"
      }
    },
    {
      "cell_type": "code",
      "source": [
        "if float(input('Number: ')) < 0:\n",
        "  print('negative')\n",
        "elif float(input('Number: ')) > 0:\n",
        "  print('positive')\n",
        "else:\n",
        "  print('zero')"
      ],
      "metadata": {
        "colab": {
          "base_uri": "https://localhost:8080/"
        },
        "id": "olo_L8Fd5sAe",
        "outputId": "ae95229e-4e63-4d7c-f68a-c7a4038bd2bd"
      },
      "execution_count": null,
      "outputs": [
        {
          "output_type": "stream",
          "name": "stdout",
          "text": [
            "Number: 0\n",
            "Number: 0\n",
            "zero\n"
          ]
        }
      ]
    },
    {
      "cell_type": "code",
      "source": [
        "number = float(input('number: '))\n",
        "if number % 2 == 0:\n",
        "  print('even')\n",
        "else:\n",
        "  print('odd')"
      ],
      "metadata": {
        "colab": {
          "base_uri": "https://localhost:8080/"
        },
        "id": "U3340tE66bUR",
        "outputId": "db3a7741-ae5e-43d5-e907-40f47a62968f"
      },
      "execution_count": null,
      "outputs": [
        {
          "output_type": "stream",
          "name": "stdout",
          "text": [
            "number: 14\n",
            "even\n"
          ]
        }
      ]
    },
    {
      "cell_type": "markdown",
      "source": [
        "Question 4- Loops"
      ],
      "metadata": {
        "id": "5I4c1g-yI98y"
      }
    },
    {
      "cell_type": "code",
      "source": [
        "for n in range(1,11):\n",
        "  print(n)"
      ],
      "metadata": {
        "colab": {
          "base_uri": "https://localhost:8080/"
        },
        "id": "osWolk6C65Lc",
        "outputId": "2c54d552-5553-4916-a7a8-d439afc8a78b"
      },
      "execution_count": null,
      "outputs": [
        {
          "output_type": "stream",
          "name": "stdout",
          "text": [
            "1\n",
            "2\n",
            "3\n",
            "4\n",
            "5\n",
            "6\n",
            "7\n",
            "8\n",
            "9\n",
            "10\n"
          ]
        }
      ]
    },
    {
      "cell_type": "code",
      "source": [
        "a = 1\n",
        "while a<11:\n",
        "  print(a)\n",
        "  a = a+1"
      ],
      "metadata": {
        "colab": {
          "base_uri": "https://localhost:8080/"
        },
        "id": "nM6WLfUR7UTy",
        "outputId": "e05495a8-5fbf-4d30-a75c-3677febf374d"
      },
      "execution_count": null,
      "outputs": [
        {
          "output_type": "stream",
          "name": "stdout",
          "text": [
            "1\n",
            "2\n",
            "3\n",
            "4\n",
            "5\n",
            "6\n",
            "7\n",
            "8\n",
            "9\n",
            "10\n"
          ]
        }
      ]
    },
    {
      "cell_type": "code",
      "source": [
        "a = 0\n",
        "for n in range (1,101):\n",
        "  a = a+n\n",
        "print(a)"
      ],
      "metadata": {
        "colab": {
          "base_uri": "https://localhost:8080/"
        },
        "id": "ZVvmMx-WOl-G",
        "outputId": "46060d28-894c-4056-8a9c-67fb18f9b7e7"
      },
      "execution_count": null,
      "outputs": [
        {
          "output_type": "stream",
          "name": "stdout",
          "text": [
            "5050\n"
          ]
        }
      ]
    },
    {
      "cell_type": "markdown",
      "source": [
        "Question 5- Data structures"
      ],
      "metadata": {
        "id": "PMY8IVDcJJCK"
      }
    },
    {
      "cell_type": "code",
      "source": [
        "numbers = [42, 15, 73, 8, 23]\n",
        "\n",
        "largest = max(numbers)\n",
        "smallest = min(numbers)\n",
        "\n",
        "print(\"List of numbers:\", numbers)\n",
        "print(\"Largest number:\", largest)\n",
        "print(\"Smallest number:\", smallest)"
      ],
      "metadata": {
        "colab": {
          "base_uri": "https://localhost:8080/"
        },
        "id": "qu1iSWZnPDnu",
        "outputId": "f98990ef-7880-4ce9-cc5c-190484a8356d"
      },
      "execution_count": null,
      "outputs": [
        {
          "output_type": "stream",
          "name": "stdout",
          "text": [
            "List of numbers: [42, 15, 73, 8, 23]\n",
            "Largest number: 73\n",
            "Smallest number: 8\n"
          ]
        }
      ]
    },
    {
      "cell_type": "code",
      "source": [
        "my_dict = {\n",
        "    \"name\": \"Alice\",\n",
        "    \"age\": 25,\n",
        "    \"city\": \"New York\"\n",
        "}\n",
        "\n",
        "key_to_find = input(\"Enter the key to retrieve the value: \")\n",
        "\n",
        "if key_to_find in my_dict:\n",
        "    print(f\"The value for '{key_to_find}' is: {my_dict[key_to_find]}\")\n",
        "else:\n",
        "    print(f\"Key '{key_to_find}' not found in the dictionary.\")"
      ],
      "metadata": {
        "colab": {
          "base_uri": "https://localhost:8080/"
        },
        "id": "6OJ8ai7xP9T6",
        "outputId": "18167182-7d11-497f-ca2b-acf69ee2f63e"
      },
      "execution_count": null,
      "outputs": [
        {
          "output_type": "stream",
          "name": "stdout",
          "text": [
            "Enter the key to retrieve the value: name\n",
            "The value for 'name' is: Alice\n"
          ]
        }
      ]
    },
    {
      "cell_type": "code",
      "source": [
        "numbers = [29, 10, 54, 33, 7]\n",
        "\n",
        "numbers.sort()\n",
        "print(\"Ascending order:\", numbers)\n",
        "\n",
        "numbers.sort(reverse=True)\n",
        "print(\"Descending order:\", numbers)"
      ],
      "metadata": {
        "colab": {
          "base_uri": "https://localhost:8080/"
        },
        "id": "C9OBboTHR3VK",
        "outputId": "063295e5-8d88-42fd-dfa6-859dafaaeb43"
      },
      "execution_count": null,
      "outputs": [
        {
          "output_type": "stream",
          "name": "stdout",
          "text": [
            "Ascending order: [7, 10, 29, 33, 54]\n",
            "Descending order: [54, 33, 29, 10, 7]\n"
          ]
        }
      ]
    },
    {
      "cell_type": "code",
      "source": [
        "dict1 = {\"name\": \"Alice\", \"age\": 25}\n",
        "dict2 = {\"city\": \"New York\", \"country\": \"USA\"}\n",
        "\n",
        "merged_dict = {**dict1, **dict2}\n",
        "\n",
        "print(\"Dictionary 1:\", dict1)\n",
        "print(\"Dictionary 2:\", dict2)\n",
        "print(\"Merged Dictionary:\", merged_dict)"
      ],
      "metadata": {
        "colab": {
          "base_uri": "https://localhost:8080/"
        },
        "id": "ZANVExb1_xEs",
        "outputId": "2dcd68ed-84ec-4727-ddca-9d62cc2e04a6"
      },
      "execution_count": null,
      "outputs": [
        {
          "output_type": "stream",
          "name": "stdout",
          "text": [
            "Dictionary 1: {'name': 'Alice', 'age': 25}\n",
            "Dictionary 2: {'city': 'New York', 'country': 'USA'}\n",
            "Merged Dictionary: {'name': 'Alice', 'age': 25, 'city': 'New York', 'country': 'USA'}\n"
          ]
        }
      ]
    },
    {
      "cell_type": "markdown",
      "source": [
        "Question 6- Strings"
      ],
      "metadata": {
        "id": "11cc1XxmJS7h"
      }
    },
    {
      "cell_type": "code",
      "source": [
        "def count_vowels(input_string):\n",
        "    vowels = \"aeiouAEIOU\"  # List of vowels (both lowercase and uppercase)\n",
        "    count = 0\n",
        "\n",
        "    for char in input_string:\n",
        "        if char in vowels:\n",
        "            count += 1\n",
        "\n",
        "    return count\n",
        "\n",
        "string = input(\"Enter a string: \")\n",
        "\n",
        "vowel_count = count_vowels(string)\n",
        "print(f\"The number of vowels in the string is: {vowel_count}\")"
      ],
      "metadata": {
        "colab": {
          "base_uri": "https://localhost:8080/"
        },
        "id": "qJiqiAp0_9PE",
        "outputId": "d9b45836-c14f-48eb-aca3-489e09465d4d"
      },
      "execution_count": null,
      "outputs": [
        {
          "output_type": "stream",
          "name": "stdout",
          "text": [
            "Enter a string: shanaya saini\n",
            "The number of vowels in the string is: 6\n"
          ]
        }
      ]
    },
    {
      "cell_type": "code",
      "source": [
        "string = input(\"Enter a string: \")\n",
        "\n",
        "reversed_string = string[::-1]\n",
        "\n",
        "print(\"Reversed string:\", reversed_string)"
      ],
      "metadata": {
        "colab": {
          "base_uri": "https://localhost:8080/"
        },
        "id": "H64kiFbyAVBs",
        "outputId": "13431e78-7d7d-48a7-e6ab-8b0b2968fc92"
      },
      "execution_count": null,
      "outputs": [
        {
          "output_type": "stream",
          "name": "stdout",
          "text": [
            "Enter a string: flabbergasted\n",
            "Reversed string: detsagrebbalf\n"
          ]
        }
      ]
    },
    {
      "cell_type": "code",
      "source": [
        "def is_palindrome(string):\n",
        "    processed_string = string.replace(\" \", \"\").lower()\n",
        "    return processed_string == processed_string[::-1]\n",
        "\n",
        "string = input(\"Enter a string: \")\n",
        "\n",
        "if is_palindrome(string):\n",
        "    print(f'\"{string}\" is a palindrome.')\n",
        "else:\n",
        "    print(f'\"{string}\" is not a palindrome.')"
      ],
      "metadata": {
        "colab": {
          "base_uri": "https://localhost:8080/"
        },
        "id": "6Y9XV_WwAfAO",
        "outputId": "075156f2-6753-41db-eff5-7707a4e68c48"
      },
      "execution_count": null,
      "outputs": [
        {
          "output_type": "stream",
          "name": "stdout",
          "text": [
            "Enter a string: mom\n",
            "\"mom\" is a palindrome.\n"
          ]
        }
      ]
    },
    {
      "cell_type": "markdown",
      "source": [
        "Question 7- File Handling"
      ],
      "metadata": {
        "id": "8NsuuZhTJrq0"
      }
    },
    {
      "cell_type": "code",
      "source": [
        "with open(\"example.txt\", \"w\") as file:\n",
        "    file.write(\"Hello, this is a sample text file.\\n\")\n",
        "    file.write(\"It contains multiple lines of text.\\n\")\n",
        "    file.write(\"This is the end of the file.\")\n",
        "\n",
        "with open(\"example.txt\", \"r\") as file:\n",
        "    content = file.read()\n",
        "\n",
        "print(\"Content of the file:\")\n",
        "print(content)"
      ],
      "metadata": {
        "colab": {
          "base_uri": "https://localhost:8080/"
        },
        "id": "bvIFr1BtAtfH",
        "outputId": "5757f50b-9dd0-45e8-f755-8593e95b3fad"
      },
      "execution_count": null,
      "outputs": [
        {
          "output_type": "stream",
          "name": "stdout",
          "text": [
            "Content of the file:\n",
            "Hello, this is a sample text file.\n",
            "It contains multiple lines of text.\n",
            "This is the end of the file.\n"
          ]
        }
      ]
    },
    {
      "cell_type": "code",
      "source": [
        "with open(\"example.txt\", \"a\") as file:\n",
        "    file.write(\"\\nThis is an appended line of text.\")\n",
        "\n",
        "with open(\"example.txt\", \"r\") as file:\n",
        "    updated_content = file.read()\n",
        "\n",
        "print(\"Updated content of the file:\")\n",
        "print(updated_content)"
      ],
      "metadata": {
        "colab": {
          "base_uri": "https://localhost:8080/"
        },
        "id": "u3ILISYOCGzu",
        "outputId": "84664003-5789-4c1d-bb8e-0ca8300f6ecc"
      },
      "execution_count": null,
      "outputs": [
        {
          "output_type": "stream",
          "name": "stdout",
          "text": [
            "Updated content of the file:\n",
            "Hello, this is a sample text file.\n",
            "It contains multiple lines of text.\n",
            "This is the end of the file.\n",
            "This is an appended line of text.\n"
          ]
        }
      ]
    },
    {
      "cell_type": "code",
      "source": [
        "with open(\"example.txt\", \"r\") as file:\n",
        "    line_count = len(file.readlines())\n",
        "\n",
        "print(f\"The number of lines in the file is: {line_count}\")"
      ],
      "metadata": {
        "colab": {
          "base_uri": "https://localhost:8080/"
        },
        "id": "0qu6Yz_2CaNX",
        "outputId": "c8703316-d43e-4daf-9723-4cc6ec1f05d7"
      },
      "execution_count": null,
      "outputs": [
        {
          "output_type": "stream",
          "name": "stdout",
          "text": [
            "The number of lines in the file is: 4\n"
          ]
        }
      ]
    },
    {
      "cell_type": "markdown",
      "source": [
        "Question 8- Exception Handling"
      ],
      "metadata": {
        "id": "9UeFXgfnKXCy"
      }
    },
    {
      "cell_type": "code",
      "source": [
        "def divide_numbers(a, b):\n",
        "    try:\n",
        "        result = a / b\n",
        "        print(f\"The result of {a} / {b} is: {result}\")\n",
        "    except ZeroDivisionError:\n",
        "        print(\"Error: Division by zero is not allowed.\")\n",
        "\n",
        "numerator = float(input(\"Enter the numerator: \"))\n",
        "denominator = float(input(\"Enter the denominator: \"))\n",
        "\n",
        "divide_numbers(numerator, denominator)"
      ],
      "metadata": {
        "colab": {
          "base_uri": "https://localhost:8080/"
        },
        "id": "epYBaDFxCeCL",
        "outputId": "9111675c-3877-46d1-88d0-e89d07ef71f9"
      },
      "execution_count": null,
      "outputs": [
        {
          "output_type": "stream",
          "name": "stdout",
          "text": [
            "Enter the numerator: 3\n",
            "Enter the denominator: 0\n",
            "Error: Division by zero is not allowed.\n"
          ]
        }
      ]
    },
    {
      "cell_type": "code",
      "source": [
        "def get_valid_number(prompt):\n",
        "    while True:\n",
        "        try:\n",
        "            number = float(input(prompt))\n",
        "            return number\n",
        "        except ValueError:\n",
        "            print(\"Invalid input. Please enter a valid number.\")\n",
        "\n",
        "num1 = get_valid_number(\"Enter the first number: \")\n",
        "num2 = get_valid_number(\"Enter the second number: \")\n",
        "\n",
        "print(f\"You entered: {num1} and {num2}\")"
      ],
      "metadata": {
        "colab": {
          "base_uri": "https://localhost:8080/"
        },
        "id": "LaGdNZDLC5zO",
        "outputId": "2075493d-497e-4453-9dea-599976072b7d"
      },
      "execution_count": null,
      "outputs": [
        {
          "output_type": "stream",
          "name": "stdout",
          "text": [
            "Enter the first number: mv\n",
            "Invalid input. Please enter a valid number.\n",
            "Enter the first number: 2\n",
            "Enter the second number: 1\n",
            "You entered: 2.0 and 1.0\n"
          ]
        }
      ]
    },
    {
      "cell_type": "code",
      "source": [
        "def divide_numbers(a, b):\n",
        "    try:\n",
        "        result = a / b\n",
        "        print(f\"The result of {a} / {b} is: {result}\")\n",
        "    except ZeroDivisionError:\n",
        "        print(\"Error: Division by zero is not allowed.\")\n",
        "    finally:\n",
        "        print(\"Execution completed, whether an error occurred or not.\")\n",
        "\n",
        "numerator = float(input(\"Enter the numerator: \"))\n",
        "denominator = float(input(\"Enter the denominator: \"))\n",
        "\n",
        "divide_numbers(numerator, denominator)"
      ],
      "metadata": {
        "colab": {
          "base_uri": "https://localhost:8080/"
        },
        "id": "BYHNXlcpDF7F",
        "outputId": "08dfaa4a-d00f-4e24-b1ef-552e4c39a8ab"
      },
      "execution_count": null,
      "outputs": [
        {
          "output_type": "stream",
          "name": "stdout",
          "text": [
            "Enter the numerator: 4\n",
            "Enter the denominator: 0\n",
            "Error: Division by zero is not allowed.\n",
            "Execution completed, whether an error occurred or not.\n"
          ]
        }
      ]
    },
    {
      "cell_type": "markdown",
      "source": [
        "Question 9- Random Numbers"
      ],
      "metadata": {
        "id": "mb3IkNALKbkD"
      }
    },
    {
      "cell_type": "code",
      "source": [
        "import random\n",
        "\n",
        "random_numbers = [random.randint(1, 100) for n in range(5)]\n",
        "\n",
        "print(\"Generated random numbers:\", random_numbers)"
      ],
      "metadata": {
        "colab": {
          "base_uri": "https://localhost:8080/"
        },
        "id": "UDRM2wVZDczn",
        "outputId": "aacda938-36f2-4241-f6b3-232f1e93f75e"
      },
      "execution_count": null,
      "outputs": [
        {
          "output_type": "stream",
          "name": "stdout",
          "text": [
            "Generated random numbers: [18, 96, 37, 77, 29]\n"
          ]
        }
      ]
    },
    {
      "cell_type": "code",
      "source": [
        "def is_prime(n):\n",
        "    if n <= 1:\n",
        "        return False\n",
        "    for i in range(2, int(n ** 0.5) + 1):\n",
        "        if n % i == 0:\n",
        "            return False\n",
        "    return True\n",
        "\n",
        "for n in random_numbers:\n",
        "    if is_prime(n):\n",
        "        print(f\"The number {n} is prime.\")\n",
        "    else:\n",
        "        print(f\"The number {n} is not prime.\")"
      ],
      "metadata": {
        "colab": {
          "base_uri": "https://localhost:8080/"
        },
        "id": "HO8qAhnCEyl3",
        "outputId": "ae2736c8-5b7c-4b14-abfa-7530108582a1"
      },
      "execution_count": null,
      "outputs": [
        {
          "output_type": "stream",
          "name": "stdout",
          "text": [
            "The number 18 is not prime.\n",
            "The number 96 is not prime.\n",
            "The number 37 is prime.\n",
            "The number 77 is not prime.\n",
            "The number 29 is prime.\n"
          ]
        }
      ]
    },
    {
      "cell_type": "code",
      "source": [
        "def roll_die():\n",
        "    return random.randint(1, 6)\n",
        "\n",
        "result = roll_die()\n",
        "\n",
        "print(f\"The result of the die roll is: {result}\")"
      ],
      "metadata": {
        "colab": {
          "base_uri": "https://localhost:8080/"
        },
        "id": "HnXS6HBlF6OH",
        "outputId": "316545dd-dcea-400b-97f6-fcfc5da1299e"
      },
      "execution_count": null,
      "outputs": [
        {
          "output_type": "stream",
          "name": "stdout",
          "text": [
            "The result of the die roll is: 4\n"
          ]
        }
      ]
    },
    {
      "cell_type": "code",
      "source": [
        "numbers = [1, 2, 3, 4, 5, 6, 7, 8, 9, 10]\n",
        "\n",
        "random.shuffle(numbers)\n",
        "\n",
        "print(\"Shuffled list:\", numbers)"
      ],
      "metadata": {
        "colab": {
          "base_uri": "https://localhost:8080/"
        },
        "id": "kmbosr8fGNbG",
        "outputId": "b2b77bd8-1a37-4d1f-83e6-b9d8ac973607"
      },
      "execution_count": null,
      "outputs": [
        {
          "output_type": "stream",
          "name": "stdout",
          "text": [
            "Shuffled list: [4, 10, 9, 7, 1, 3, 5, 8, 6, 2]\n"
          ]
        }
      ]
    },
    {
      "cell_type": "code",
      "source": [
        "items = ['apple', 'banana', 'cherry', 'date', 'elderberry']\n",
        "\n",
        "selected_item = random.choice(items)\n",
        "\n",
        "print(\"Randomly selected item:\", selected_item)"
      ],
      "metadata": {
        "colab": {
          "base_uri": "https://localhost:8080/"
        },
        "id": "0nnnTULQGV7E",
        "outputId": "4f4ec569-1260-4792-d74b-714560f57625"
      },
      "execution_count": null,
      "outputs": [
        {
          "output_type": "stream",
          "name": "stdout",
          "text": [
            "Randomly selected item: elderberry\n"
          ]
        }
      ]
    },
    {
      "cell_type": "code",
      "source": [
        "import string\n",
        "\n",
        "def generate_password(length):\n",
        "    characters = string.ascii_letters + string.digits + string.punctuation\n",
        "    password = ''.join(random.choice(characters) for _ in range(length))\n",
        "    return password\n",
        "\n",
        "length = int(input(\"Enter the desired password length: \"))\n",
        "\n",
        "password = generate_password(length)\n",
        "print(f\"Generated password: {password}\")"
      ],
      "metadata": {
        "colab": {
          "base_uri": "https://localhost:8080/"
        },
        "id": "uGDmD6a2Gisw",
        "outputId": "71c6cd64-1e15-4d67-d2db-7f1fdc5136fe"
      },
      "execution_count": null,
      "outputs": [
        {
          "output_type": "stream",
          "name": "stdout",
          "text": [
            "Enter the desired password length: 6\n",
            "Generated password: ZB-Umh\n"
          ]
        }
      ]
    },
    {
      "cell_type": "code",
      "source": [
        "suits = ['Hearts', 'Diamonds', 'Clubs', 'Spades']\n",
        "ranks = ['2', '3', '4', '5', '6', '7', '8', '9', '10', 'Jack', 'Queen', 'King', 'Ace']\n",
        "\n",
        "deck = [f'{rank} of {suit}' for suit in suits for rank in ranks]\n",
        "\n",
        "random_card = random.choice(deck)\n",
        "\n",
        "print(f\"The random card picked is: {random_card}\")"
      ],
      "metadata": {
        "colab": {
          "base_uri": "https://localhost:8080/"
        },
        "id": "57LZiqsVGyBC",
        "outputId": "1f758374-a0c1-4146-f73d-cbe80646a56d"
      },
      "execution_count": null,
      "outputs": [
        {
          "output_type": "stream",
          "name": "stdout",
          "text": [
            "The random card picked is: 3 of Clubs\n"
          ]
        }
      ]
    },
    {
      "cell_type": "markdown",
      "source": [
        "Question 10- Command line arguments"
      ],
      "metadata": {
        "id": "T3CG4kiMKjcz"
      }
    },
    {
      "cell_type": "code",
      "source": [
        "import sys\n",
        "\n",
        "if len(sys.argv) != 3:\n",
        "    print(\"Usage: python program.py <number1> <number2>\")\n",
        "else:\n",
        "    try:\n",
        "        number1 = float(sys.argv[1])\n",
        "        number2 = float(sys.argv[2])\n",
        "        result = number1 + number2\n",
        "        print(f\"The sum of {number1} and {number2} is {result}\")\n",
        "    except ValueError:\n",
        "        print(\"Please provide two valid numbers.\")"
      ],
      "metadata": {
        "colab": {
          "base_uri": "https://localhost:8080/"
        },
        "id": "f65hGL4kHARp",
        "outputId": "6c62948f-bb69-4c2e-dcae-996e167e5607"
      },
      "execution_count": null,
      "outputs": [
        {
          "output_type": "stream",
          "name": "stdout",
          "text": [
            "Please provide two valid numbers.\n"
          ]
        }
      ]
    },
    {
      "cell_type": "code",
      "source": [
        "import sys\n",
        "\n",
        "if len(sys.argv) != 2:\n",
        "    print(\"Usage: python program.py <string>\")\n",
        "else:\n",
        "    input_string = sys.argv[1]\n",
        "    string_length = len(input_string)\n",
        "    print(f\"The length of the string '{input_string}' is {string_length}\")"
      ],
      "metadata": {
        "colab": {
          "base_uri": "https://localhost:8080/"
        },
        "id": "ZPrd5ehpHSL-",
        "outputId": "2e935f3e-904c-43a7-ded0-59e8911101f0"
      },
      "execution_count": null,
      "outputs": [
        {
          "output_type": "stream",
          "name": "stdout",
          "text": [
            "Usage: python program.py <string>\n"
          ]
        }
      ]
    },
    {
      "cell_type": "markdown",
      "source": [
        "Question 11- Libraries"
      ],
      "metadata": {
        "id": "6sHF48RkKqvV"
      }
    },
    {
      "cell_type": "code",
      "source": [
        "import math\n",
        "\n",
        "num = float(input(\"Enter number: \"))\n",
        "square_root = math.sqrt(num)\n",
        "print(f\"The square root of {num} is {square_root}\")"
      ],
      "metadata": {
        "colab": {
          "base_uri": "https://localhost:8080/"
        },
        "id": "kA1ooGmgIJTh",
        "outputId": "30f7b034-707d-4386-c903-b21f4c9c224f"
      },
      "execution_count": null,
      "outputs": [
        {
          "output_type": "stream",
          "name": "stdout",
          "text": [
            "Enter number: 25\n",
            "The square root of 25.0 is 5.0\n"
          ]
        }
      ]
    },
    {
      "cell_type": "code",
      "source": [
        "from datetime import datetime\n",
        "\n",
        "current_datetime = datetime.now()\n",
        "print(f\"The current date and time is {current_datetime}\")"
      ],
      "metadata": {
        "colab": {
          "base_uri": "https://localhost:8080/"
        },
        "id": "ePQmwTXLIP88",
        "outputId": "f300ef14-e8de-4484-9750-49ddf0e73304"
      },
      "execution_count": null,
      "outputs": [
        {
          "output_type": "stream",
          "name": "stdout",
          "text": [
            "The current date and time is 2025-01-13 05:26:56.897363\n"
          ]
        }
      ]
    },
    {
      "cell_type": "code",
      "source": [
        "import os\n",
        "\n",
        "files_and_dirs = os.listdir('.')\n",
        "print(\"Files and directories in the current directory:\")\n",
        "for item in files_and_dirs:\n",
        "    print(item)"
      ],
      "metadata": {
        "colab": {
          "base_uri": "https://localhost:8080/"
        },
        "id": "dRfXkQT8ISj4",
        "outputId": "8d1b40f2-85bd-4aff-e2ea-1ddd51453c84"
      },
      "execution_count": null,
      "outputs": [
        {
          "output_type": "stream",
          "name": "stdout",
          "text": [
            "Files and directories in the current directory:\n",
            ".config\n",
            "example.txt\n",
            "sample_data\n"
          ]
        }
      ]
    }
  ]
}